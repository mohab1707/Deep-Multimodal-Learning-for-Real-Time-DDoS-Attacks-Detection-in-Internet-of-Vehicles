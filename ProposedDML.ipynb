{
 "cells": [
  {
   "cell_type": "markdown",
   "id": "5bc25df5-746f-48bc-b45a-e40c7492ea59",
   "metadata": {},
   "source": [
    "# The Proposed DML Approach \n",
    "In this notebook, we describe the training and validation process of the proposed DML models"
   ]
  },
  {
   "cell_type": "markdown",
   "id": "f41e4a0a-2a40-41cd-b967-cbc7d975b8b1",
   "metadata": {},
   "source": [
    "## 1. Importing Necessary Libraries"
   ]
  },
  {
   "cell_type": "code",
   "execution_count": 45,
   "id": "d64dab91-c02c-4a65-a813-048e6b83bff9",
   "metadata": {},
   "outputs": [],
   "source": [
    "import numpy as np\n",
    "import pandas as pd\n",
    "import seaborn as sns\n",
    "import matplotlib.pyplot as plt\n",
    "\n",
    "from sklearn.metrics import classification_report, confusion_matrix, accuracy_score\n",
    "from sklearn.model_selection import train_test_split\n",
    "import joblib\n",
    "\n",
    "import time\n",
    "\n",
    "import tensorflow as tf\n",
    "from tensorflow.keras.models import Sequential, Model\n",
    "from tensorflow.keras.layers import Input, Bidirectional, LSTM, Dense, GRU, BatchNormalization, concatenate, Attention, Permute\n",
    "from tensorflow.keras import layers\n",
    "from tensorflow.keras.regularizers import L1, L2\n",
    "import tensorflow as tf\n",
    "\n",
    "from tensorflow.keras.utils import to_categorical\n",
    "from tensorflow.keras.optimizers import Adam\n",
    "from tensorflow.keras.callbacks import EarlyStopping\n",
    "from tqdm import tqdm\n",
    "\n",
    "import warnings\n",
    "warnings.filterwarnings('ignore')\n",
    "\n",
    "%matplotlib inline"
   ]
  },
  {
   "cell_type": "markdown",
   "id": "f0a3644a-332f-43b9-a3ec-55688acc243e",
   "metadata": {},
   "source": [
    "## 2. Reading the Training/Validation Datasets"
   ]
  },
  {
   "cell_type": "code",
   "execution_count": 2,
   "id": "a7ad0eb4-da9b-4f6a-9ddf-b8cc80565f72",
   "metadata": {},
   "outputs": [],
   "source": [
    "train = \"./data/train.csv\"\n",
    "val = \"./data/val.csv\"\n",
    "train_df = pd.read_csv(train)\n",
    "val_df = pd.read_csv(val)"
   ]
  },
  {
   "cell_type": "code",
   "execution_count": 3,
   "id": "901c97f7-2495-4073-b5db-92a621c27dd0",
   "metadata": {},
   "outputs": [],
   "source": [
    "x_train = train_df.drop(columns=['label'])\n",
    "x0_train = train_df[['CreationTime','ArrivalTime','RealId','Pseudonym','receiverId','receiverPseudo','Accel_x','Accel_y','Heading_x','Heading_y','Pos_x','Pos_y','Speed_x','Speed_y']]\n",
    "x1_train = train_df.drop(columns=['CreationTime','ArrivalTime','RealId','Pseudonym','receiverId','receiverPseudo','Accel_x','Accel_y','Heading_x','Heading_y','Pos_x','Pos_y','Speed_x','Speed_y','label'])\n",
    "y_train = train_df['label']"
   ]
  },
  {
   "cell_type": "code",
   "execution_count": 4,
   "id": "010d87c2-8595-4ba5-8408-de24a91212ac",
   "metadata": {},
   "outputs": [],
   "source": [
    "x_val = val_df.drop(columns=['label'])\n",
    "x0_val = val_df[['CreationTime','ArrivalTime','RealId','Pseudonym','receiverId','receiverPseudo','Accel_x','Accel_y','Heading_x','Heading_y','Pos_x','Pos_y','Speed_x','Speed_y']]\n",
    "x1_val = val_df.drop(columns=['CreationTime','ArrivalTime','RealId','Pseudonym','receiverId','receiverPseudo','Accel_x','Accel_y','Heading_x','Heading_y','Pos_x','Pos_y','Speed_x','Speed_y','label'])\n",
    "y_val = val_df['label']"
   ]
  },
  {
   "cell_type": "markdown",
   "id": "bfb7e065-9670-478a-bf7f-0bc9653de89d",
   "metadata": {},
   "source": [
    "## 3. Generating the Sequences\n",
    "In our study, we consider two cases:\n",
    "- Generating only the BSMs as sequences.\n",
    "- Generating the whole data (BSMs and their plausibility checks) as sequences."
   ]
  },
  {
   "cell_type": "code",
   "execution_count": 5,
   "id": "abdb24de-e689-4939-a54b-b5f22cefef4d",
   "metadata": {},
   "outputs": [],
   "source": [
    "window_size = 20\n",
    "\n",
    "# Function to create overlapping windows\n",
    "def create_overlapping_windows(data, window_size):\n",
    "  sequences = []\n",
    "  total_iterations = len(data) - window_size + 1\n",
    "  with tqdm(total=total_iterations) as pbar:\n",
    "        for i in range(total_iterations):\n",
    "            sequences.append(data[i:i+window_size])\n",
    "            pbar.update(1)  # Update progress bar\n",
    "  return np.array(sequences)"
   ]
  },
  {
   "cell_type": "markdown",
   "id": "878646bc-9806-4f86-bd15-ba80ada686d5",
   "metadata": {},
   "source": [
    "- Train Data: Generating the whole data (BSMs and their plausibility checks) as sequences."
   ]
  },
  {
   "cell_type": "code",
   "execution_count": 6,
   "id": "350ab558-2e2a-4dd8-ba88-3b5bb65c5905",
   "metadata": {},
   "outputs": [
    {
     "name": "stderr",
     "output_type": "stream",
     "text": [
      "100%|█████████████████████████████████████████████████████████████████████████████████████████████████████████████████████| 799981/799981 [00:24<00:00, 32651.03it/s]\n"
     ]
    },
    {
     "name": "stdout",
     "output_type": "stream",
     "text": [
      "(799981, 20, 50)\n"
     ]
    }
   ],
   "source": [
    "x_train_windows = create_overlapping_windows(x_train, window_size)\n",
    "print(x_train_windows.shape)"
   ]
  },
  {
   "cell_type": "markdown",
   "id": "88be8ce0-10bb-46b0-934c-bd67314cf41d",
   "metadata": {},
   "source": [
    "- Train Data: Generating only the BSMs as sequences."
   ]
  },
  {
   "cell_type": "code",
   "execution_count": 7,
   "id": "6da4db54-5154-4624-893e-78b05566e2dd",
   "metadata": {},
   "outputs": [
    {
     "name": "stderr",
     "output_type": "stream",
     "text": [
      "100%|█████████████████████████████████████████████████████████████████████████████████████████████████████████████████████| 799981/799981 [00:22<00:00, 36022.18it/s]\n"
     ]
    },
    {
     "name": "stdout",
     "output_type": "stream",
     "text": [
      "(799981, 20, 14)\n"
     ]
    }
   ],
   "source": [
    "x0_train_windows = create_overlapping_windows(x0_train, window_size)\n",
    "print(x0_train_windows.shape)"
   ]
  },
  {
   "cell_type": "markdown",
   "id": "c2b9d603-5862-4856-82ff-4bb73c67bae3",
   "metadata": {},
   "source": [
    "- Validation Data: Generating the whole data (BSMs and their plausibility checks) as sequences."
   ]
  },
  {
   "cell_type": "code",
   "execution_count": 8,
   "id": "ccfff1e4-a76e-4bf9-83f7-584f5f873065",
   "metadata": {},
   "outputs": [
    {
     "name": "stderr",
     "output_type": "stream",
     "text": [
      "100%|█████████████████████████████████████████████████████████████████████████████████████████████████████████████████████| 199981/199981 [00:04<00:00, 41903.93it/s]\n"
     ]
    },
    {
     "name": "stdout",
     "output_type": "stream",
     "text": [
      "(199981, 20, 50)\n"
     ]
    }
   ],
   "source": [
    "x_val_windows = create_overlapping_windows(x_val, window_size)\n",
    "print(x_val_windows.shape)"
   ]
  },
  {
   "cell_type": "markdown",
   "id": "ca28c5ea-0c00-4a44-936f-b16c02898876",
   "metadata": {},
   "source": [
    "- Validation Data: Generating only the BSMs as sequences."
   ]
  },
  {
   "cell_type": "code",
   "execution_count": 9,
   "id": "242cd44a-7c7d-4a58-8e7d-8ec1353b2324",
   "metadata": {},
   "outputs": [
    {
     "name": "stderr",
     "output_type": "stream",
     "text": [
      "100%|█████████████████████████████████████████████████████████████████████████████████████████████████████████████████████| 199981/199981 [00:06<00:00, 31024.52it/s]\n"
     ]
    },
    {
     "name": "stdout",
     "output_type": "stream",
     "text": [
      "(199981, 20, 14)\n"
     ]
    }
   ],
   "source": [
    "x0_val_windows = create_overlapping_windows(x0_val, window_size)\n",
    "print(x0_val_windows.shape)"
   ]
  },
  {
   "cell_type": "markdown",
   "id": "c0cacf57-4467-4ec6-bad9-673b3ada8730",
   "metadata": {},
   "source": [
    "## 4. One-hot Encoding"
   ]
  },
  {
   "cell_type": "markdown",
   "id": "18870b9b-e2e8-4094-b9ad-fecba914a5f4",
   "metadata": {},
   "source": [
    "We apply a manual one-hot encoding method for the `label` (class)."
   ]
  },
  {
   "cell_type": "code",
   "execution_count": 10,
   "id": "e5d3bd9a-03e4-416b-af30-01d3f8b6a693",
   "metadata": {},
   "outputs": [
    {
     "name": "stdout",
     "output_type": "stream",
     "text": [
      "(800000, 6)\n"
     ]
    }
   ],
   "source": [
    "mapping = {0: 0, 13: 1, 14: 2, 15: 3, 18: 4, 19: 5}\n",
    "\n",
    "# Number of classes\n",
    "num_classes = len(mapping)\n",
    "# Convert labels to one-hot encoding with the correct number of classes\n",
    "y_train_encoded = np.zeros((len(y_train), num_classes))\n",
    "\n",
    "# Convert labels to one-hot encoding using the provided mapping\n",
    "for i, class_index in enumerate(y_train):\n",
    "    mapped_class_index = mapping[class_index]\n",
    "    y_train_encoded[i, mapped_class_index] = 1\n",
    "\n",
    "print(y_train_encoded.shape)"
   ]
  },
  {
   "cell_type": "code",
   "execution_count": 11,
   "id": "9e41cc01-3946-4505-9283-f6989351fd49",
   "metadata": {},
   "outputs": [
    {
     "name": "stdout",
     "output_type": "stream",
     "text": [
      "(200000, 6)\n"
     ]
    }
   ],
   "source": [
    "mapping = {0: 0, 13: 1, 14: 2, 15: 3, 18: 4, 19: 5}\n",
    "\n",
    "# Number of classes\n",
    "num_classes = len(mapping)\n",
    "# Convert labels to one-hot encoding with the correct number of classes\n",
    "y_val_encoded = np.zeros((len(y_val), num_classes))\n",
    "\n",
    "# Convert labels to one-hot encoding using the provided mapping\n",
    "for i, class_index in enumerate(y_val):\n",
    "    mapped_class_index = mapping[class_index]\n",
    "    y_val_encoded[i, mapped_class_index] = 1\n",
    "\n",
    "print(y_val_encoded.shape)"
   ]
  },
  {
   "cell_type": "markdown",
   "id": "3386d139-4d26-4841-aefe-f898c3f26327",
   "metadata": {},
   "source": [
    "## 5. Deep Adaptive Input Normalization (DAIN) Layer\n",
    "\n",
    "For the normalization method, we apply the Deep Adaptive Input Normalization (DAIN) layer as the best practice for time series data."
   ]
  },
  {
   "cell_type": "code",
   "execution_count": 12,
   "id": "d2a5b331-8948-4df2-a438-26a1a15da156",
   "metadata": {},
   "outputs": [],
   "source": [
    "import tensorflow as tf\n",
    "tf.keras.backend.set_floatx('float64')\n",
    "class Adaptive_Normalizer_Layer(tf.keras.layers.Layer):\n",
    "    def __init__(self, mode = 'full', input_dim = 5):\n",
    "        super(Adaptive_Normalizer_Layer, self).__init__()\n",
    "        \n",
    "        '''\n",
    "        PARAMETERS\n",
    "        \n",
    "        :param mode: Type of normalization to be performed.\n",
    "                        - 'adaptive_average' performs the adaptive average of the inputs\n",
    "                        - 'adaptive_scale' performs the adaptive z-score normalization of the inputs\n",
    "                        - 'full' (Default) performs the complete normalization process: adaptive_average + adaptive_scale + gating\n",
    "        :param input_dim: Number of rows in each batch\n",
    "        '''\n",
    "        \n",
    "        self.mode = mode\n",
    "        self.x = None\n",
    "\n",
    "        self.eps = 1e-8\n",
    "        \n",
    "        initializer = tf.keras.initializers.Identity()\n",
    "        gate_initializer =  tf.keras.initializers.GlorotNormal()\n",
    "        bias_initializer = tf.keras.initializers.RandomNormal()\n",
    "        self.linear_1 = tf.keras.layers.Dense(input_dim, kernel_initializer=initializer, use_bias=False)\n",
    "        self.linear_2 = tf.keras.layers.Dense(input_dim, kernel_initializer=initializer, use_bias=False)\n",
    "        self.linear_3 = tf.keras.layers.Dense(input_dim, kernel_initializer=gate_initializer, bias_initializer=gate_initializer)\n",
    "\n",
    "    def call(self, inputs):\n",
    "        # Expecting (n_samples, dim, n_feature_vectors)\n",
    "        \n",
    "        def adaptive_avg(inputs):\n",
    "        \n",
    "            avg = tf.keras.backend.mean(inputs, 2)\n",
    "            adaptive_avg = self.linear_1(avg)\n",
    "            adaptive_avg = tf.keras.backend.reshape(adaptive_avg, (tf.shape(inputs)[0].numpy(), tf.shape(inputs)[1].numpy(), 1))\n",
    "            x = inputs - adaptive_avg\n",
    "            \n",
    "            return x\n",
    "        \n",
    "        def adaptive_std(x):\n",
    "        \n",
    "            std = tf.keras.backend.mean(x ** 2, 2)\n",
    "            std = tf.keras.backend.sqrt(std + self.eps)\n",
    "            adaptive_std = self.linear_2(std)\n",
    "            adaptive_std = tf.where(tf.math.less_equal(adaptive_std, self.eps), 1, adaptive_std)\n",
    "            adaptive_std = tf.keras.backend.reshape(adaptive_std, (tf.shape(inputs)[0].numpy(), tf.shape(inputs)[1].numpy(), 1))\n",
    "            x = x / (adaptive_std)\n",
    "            \n",
    "            return x\n",
    "        \n",
    "        def gating(x):\n",
    "            \n",
    "            gate = tf.keras.backend.mean(x, 2)\n",
    "            gate = self.linear_3(gate)\n",
    "            gate = tf.math.sigmoid(gate)\n",
    "            gate = tf.keras.backend.reshape(gate, (tf.shape(inputs)[0].numpy(), tf.shape(inputs)[1].numpy(), 1))\n",
    "            x = x * gate\n",
    "            \n",
    "            return x\n",
    "        \n",
    "        if self.mode == None:\n",
    "            pass\n",
    "        \n",
    "        elif self.mode == 'adaptive_average':\n",
    "            self.x = adaptive_avg(inputs)\n",
    "            \n",
    "        elif self.mode == 'adaptive_scale':\n",
    "            self.x = adaptive_avg(inputs)\n",
    "            self.x = adaptive_std(x)\n",
    "            \n",
    "        elif self.mode == 'full':\n",
    "            self.x = adaptive_avg(inputs)\n",
    "            self.x = adaptive_std(self.x)\n",
    "            self.x = gating(self.x)\n",
    "        \n",
    "        else:\n",
    "            assert False\n",
    "\n",
    "        return self.x"
   ]
  },
  {
   "cell_type": "markdown",
   "id": "d9f77fc1-5247-4bd1-8e65-fe41f173e2c2",
   "metadata": {},
   "source": [
    "## 6. Training/Validation Process\n",
    "To demonstrate the performance of the proposed architecture during training and validation, we compare it with two other architectures as follows:"
   ]
  },
  {
   "cell_type": "markdown",
   "id": "b4f47169-9a30-40ba-ad08-87730966ed45",
   "metadata": {},
   "source": [
    "- Architecture 1: LSTM-Dense-GRU with only BSMs sequences as input (without adding the plausibility checks data)"
   ]
  },
  {
   "cell_type": "code",
   "execution_count": 13,
   "id": "a8861060-d260-4ea7-812b-c4fd3c1bf4b6",
   "metadata": {},
   "outputs": [
    {
     "data": {
      "text/html": [
       "<pre style=\"white-space:pre;overflow-x:auto;line-height:normal;font-family:Menlo,'DejaVu Sans Mono',consolas,'Courier New',monospace\"><span style=\"font-weight: bold\">Model: \"functional\"</span>\n",
       "</pre>\n"
      ],
      "text/plain": [
       "\u001b[1mModel: \"functional\"\u001b[0m\n"
      ]
     },
     "metadata": {},
     "output_type": "display_data"
    },
    {
     "data": {
      "text/html": [
       "<pre style=\"white-space:pre;overflow-x:auto;line-height:normal;font-family:Menlo,'DejaVu Sans Mono',consolas,'Courier New',monospace\">┏━━━━━━━━━━━━━━━━━━━━━━━━━━━━━━━━━┳━━━━━━━━━━━━━━━━━━━━━━━━┳━━━━━━━━━━━━━━━┓\n",
       "┃<span style=\"font-weight: bold\"> Layer (type)                    </span>┃<span style=\"font-weight: bold\"> Output Shape           </span>┃<span style=\"font-weight: bold\">       Param # </span>┃\n",
       "┡━━━━━━━━━━━━━━━━━━━━━━━━━━━━━━━━━╇━━━━━━━━━━━━━━━━━━━━━━━━╇━━━━━━━━━━━━━━━┩\n",
       "│ input_layer (<span style=\"color: #0087ff; text-decoration-color: #0087ff\">InputLayer</span>)        │ (<span style=\"color: #00d7ff; text-decoration-color: #00d7ff\">None</span>, <span style=\"color: #00af00; text-decoration-color: #00af00\">20</span>, <span style=\"color: #00af00; text-decoration-color: #00af00\">14</span>)         │             <span style=\"color: #00af00; text-decoration-color: #00af00\">0</span> │\n",
       "├─────────────────────────────────┼────────────────────────┼───────────────┤\n",
       "│ bidirectional (<span style=\"color: #0087ff; text-decoration-color: #0087ff\">Bidirectional</span>)   │ (<span style=\"color: #00d7ff; text-decoration-color: #00d7ff\">None</span>, <span style=\"color: #00af00; text-decoration-color: #00af00\">20</span>, <span style=\"color: #00af00; text-decoration-color: #00af00\">46</span>)         │         <span style=\"color: #00af00; text-decoration-color: #00af00\">6,992</span> │\n",
       "├─────────────────────────────────┼────────────────────────┼───────────────┤\n",
       "│ batch_normalization             │ (<span style=\"color: #00d7ff; text-decoration-color: #00d7ff\">None</span>, <span style=\"color: #00af00; text-decoration-color: #00af00\">20</span>, <span style=\"color: #00af00; text-decoration-color: #00af00\">46</span>)         │           <span style=\"color: #00af00; text-decoration-color: #00af00\">184</span> │\n",
       "│ (<span style=\"color: #0087ff; text-decoration-color: #0087ff\">BatchNormalization</span>)            │                        │               │\n",
       "├─────────────────────────────────┼────────────────────────┼───────────────┤\n",
       "│ dense (<span style=\"color: #0087ff; text-decoration-color: #0087ff\">Dense</span>)                   │ (<span style=\"color: #00d7ff; text-decoration-color: #00d7ff\">None</span>, <span style=\"color: #00af00; text-decoration-color: #00af00\">20</span>, <span style=\"color: #00af00; text-decoration-color: #00af00\">23</span>)         │         <span style=\"color: #00af00; text-decoration-color: #00af00\">1,081</span> │\n",
       "├─────────────────────────────────┼────────────────────────┼───────────────┤\n",
       "│ batch_normalization_1           │ (<span style=\"color: #00d7ff; text-decoration-color: #00d7ff\">None</span>, <span style=\"color: #00af00; text-decoration-color: #00af00\">20</span>, <span style=\"color: #00af00; text-decoration-color: #00af00\">23</span>)         │            <span style=\"color: #00af00; text-decoration-color: #00af00\">92</span> │\n",
       "│ (<span style=\"color: #0087ff; text-decoration-color: #0087ff\">BatchNormalization</span>)            │                        │               │\n",
       "├─────────────────────────────────┼────────────────────────┼───────────────┤\n",
       "│ gru (<span style=\"color: #0087ff; text-decoration-color: #0087ff\">GRU</span>)                       │ (<span style=\"color: #00d7ff; text-decoration-color: #00d7ff\">None</span>, <span style=\"color: #00af00; text-decoration-color: #00af00\">12</span>)             │         <span style=\"color: #00af00; text-decoration-color: #00af00\">1,332</span> │\n",
       "├─────────────────────────────────┼────────────────────────┼───────────────┤\n",
       "│ batch_normalization_2           │ (<span style=\"color: #00d7ff; text-decoration-color: #00d7ff\">None</span>, <span style=\"color: #00af00; text-decoration-color: #00af00\">12</span>)             │            <span style=\"color: #00af00; text-decoration-color: #00af00\">48</span> │\n",
       "│ (<span style=\"color: #0087ff; text-decoration-color: #0087ff\">BatchNormalization</span>)            │                        │               │\n",
       "├─────────────────────────────────┼────────────────────────┼───────────────┤\n",
       "│ dense_1 (<span style=\"color: #0087ff; text-decoration-color: #0087ff\">Dense</span>)                 │ (<span style=\"color: #00d7ff; text-decoration-color: #00d7ff\">None</span>, <span style=\"color: #00af00; text-decoration-color: #00af00\">6</span>)              │            <span style=\"color: #00af00; text-decoration-color: #00af00\">78</span> │\n",
       "└─────────────────────────────────┴────────────────────────┴───────────────┘\n",
       "</pre>\n"
      ],
      "text/plain": [
       "┏━━━━━━━━━━━━━━━━━━━━━━━━━━━━━━━━━┳━━━━━━━━━━━━━━━━━━━━━━━━┳━━━━━━━━━━━━━━━┓\n",
       "┃\u001b[1m \u001b[0m\u001b[1mLayer (type)                   \u001b[0m\u001b[1m \u001b[0m┃\u001b[1m \u001b[0m\u001b[1mOutput Shape          \u001b[0m\u001b[1m \u001b[0m┃\u001b[1m \u001b[0m\u001b[1m      Param #\u001b[0m\u001b[1m \u001b[0m┃\n",
       "┡━━━━━━━━━━━━━━━━━━━━━━━━━━━━━━━━━╇━━━━━━━━━━━━━━━━━━━━━━━━╇━━━━━━━━━━━━━━━┩\n",
       "│ input_layer (\u001b[38;5;33mInputLayer\u001b[0m)        │ (\u001b[38;5;45mNone\u001b[0m, \u001b[38;5;34m20\u001b[0m, \u001b[38;5;34m14\u001b[0m)         │             \u001b[38;5;34m0\u001b[0m │\n",
       "├─────────────────────────────────┼────────────────────────┼───────────────┤\n",
       "│ bidirectional (\u001b[38;5;33mBidirectional\u001b[0m)   │ (\u001b[38;5;45mNone\u001b[0m, \u001b[38;5;34m20\u001b[0m, \u001b[38;5;34m46\u001b[0m)         │         \u001b[38;5;34m6,992\u001b[0m │\n",
       "├─────────────────────────────────┼────────────────────────┼───────────────┤\n",
       "│ batch_normalization             │ (\u001b[38;5;45mNone\u001b[0m, \u001b[38;5;34m20\u001b[0m, \u001b[38;5;34m46\u001b[0m)         │           \u001b[38;5;34m184\u001b[0m │\n",
       "│ (\u001b[38;5;33mBatchNormalization\u001b[0m)            │                        │               │\n",
       "├─────────────────────────────────┼────────────────────────┼───────────────┤\n",
       "│ dense (\u001b[38;5;33mDense\u001b[0m)                   │ (\u001b[38;5;45mNone\u001b[0m, \u001b[38;5;34m20\u001b[0m, \u001b[38;5;34m23\u001b[0m)         │         \u001b[38;5;34m1,081\u001b[0m │\n",
       "├─────────────────────────────────┼────────────────────────┼───────────────┤\n",
       "│ batch_normalization_1           │ (\u001b[38;5;45mNone\u001b[0m, \u001b[38;5;34m20\u001b[0m, \u001b[38;5;34m23\u001b[0m)         │            \u001b[38;5;34m92\u001b[0m │\n",
       "│ (\u001b[38;5;33mBatchNormalization\u001b[0m)            │                        │               │\n",
       "├─────────────────────────────────┼────────────────────────┼───────────────┤\n",
       "│ gru (\u001b[38;5;33mGRU\u001b[0m)                       │ (\u001b[38;5;45mNone\u001b[0m, \u001b[38;5;34m12\u001b[0m)             │         \u001b[38;5;34m1,332\u001b[0m │\n",
       "├─────────────────────────────────┼────────────────────────┼───────────────┤\n",
       "│ batch_normalization_2           │ (\u001b[38;5;45mNone\u001b[0m, \u001b[38;5;34m12\u001b[0m)             │            \u001b[38;5;34m48\u001b[0m │\n",
       "│ (\u001b[38;5;33mBatchNormalization\u001b[0m)            │                        │               │\n",
       "├─────────────────────────────────┼────────────────────────┼───────────────┤\n",
       "│ dense_1 (\u001b[38;5;33mDense\u001b[0m)                 │ (\u001b[38;5;45mNone\u001b[0m, \u001b[38;5;34m6\u001b[0m)              │            \u001b[38;5;34m78\u001b[0m │\n",
       "└─────────────────────────────────┴────────────────────────┴───────────────┘\n"
      ]
     },
     "metadata": {},
     "output_type": "display_data"
    },
    {
     "data": {
      "text/html": [
       "<pre style=\"white-space:pre;overflow-x:auto;line-height:normal;font-family:Menlo,'DejaVu Sans Mono',consolas,'Courier New',monospace\"><span style=\"font-weight: bold\"> Total params: </span><span style=\"color: #00af00; text-decoration-color: #00af00\">9,807</span> (76.62 KB)\n",
       "</pre>\n"
      ],
      "text/plain": [
       "\u001b[1m Total params: \u001b[0m\u001b[38;5;34m9,807\u001b[0m (76.62 KB)\n"
      ]
     },
     "metadata": {},
     "output_type": "display_data"
    },
    {
     "data": {
      "text/html": [
       "<pre style=\"white-space:pre;overflow-x:auto;line-height:normal;font-family:Menlo,'DejaVu Sans Mono',consolas,'Courier New',monospace\"><span style=\"font-weight: bold\"> Trainable params: </span><span style=\"color: #00af00; text-decoration-color: #00af00\">9,645</span> (75.35 KB)\n",
       "</pre>\n"
      ],
      "text/plain": [
       "\u001b[1m Trainable params: \u001b[0m\u001b[38;5;34m9,645\u001b[0m (75.35 KB)\n"
      ]
     },
     "metadata": {},
     "output_type": "display_data"
    },
    {
     "data": {
      "text/html": [
       "<pre style=\"white-space:pre;overflow-x:auto;line-height:normal;font-family:Menlo,'DejaVu Sans Mono',consolas,'Courier New',monospace\"><span style=\"font-weight: bold\"> Non-trainable params: </span><span style=\"color: #00af00; text-decoration-color: #00af00\">162</span> (1.27 KB)\n",
       "</pre>\n"
      ],
      "text/plain": [
       "\u001b[1m Non-trainable params: \u001b[0m\u001b[38;5;34m162\u001b[0m (1.27 KB)\n"
      ]
     },
     "metadata": {},
     "output_type": "display_data"
    }
   ],
   "source": [
    "# Define the input layer\n",
    "input_layer = Input(shape=(20, 14))\n",
    "\n",
    "# Build the model using the input\n",
    "x = Bidirectional(LSTM(23, return_sequences=True))(input_layer)\n",
    "x = BatchNormalization()(x)\n",
    "x = Dense(23, activation='relu')(x)\n",
    "x = BatchNormalization()(x)\n",
    "x = GRU(12, return_sequences=False)(x)\n",
    "x = BatchNormalization()(x)\n",
    "output_layer = Dense(6, activation='softmax')(x)\n",
    "\n",
    "# Create the model\n",
    "model1 = Model(inputs=input_layer, outputs=output_layer)\n",
    "\n",
    "# Define the learning rate\n",
    "learning_rate = 0.001  # Adjust the learning rate as needed\n",
    "\n",
    "# Compile the model with Adam optimizer and specified learning rate\n",
    "optimizer = Adam(learning_rate=learning_rate)\n",
    "\n",
    "model1.compile(optimizer=optimizer, loss='categorical_crossentropy', metrics=['accuracy'])\n",
    "\n",
    "# Print model summary\n",
    "model1.summary()"
   ]
  },
  {
   "cell_type": "code",
   "execution_count": 14,
   "id": "de53742a-7715-4696-9bec-deb2547d1f61",
   "metadata": {},
   "outputs": [
    {
     "data": {
      "text/plain": [
       "TensorShape([799981, 20, 14])"
      ]
     },
     "execution_count": 14,
     "metadata": {},
     "output_type": "execute_result"
    }
   ],
   "source": [
    "normalizer_layer = Adaptive_Normalizer_Layer(mode='full', input_dim=14)\n",
    "data = tf.transpose(x0_train_windows, perm=[0, 2, 1])\n",
    "x0_train_normalizd = normalizer_layer(data)\n",
    "x0_train_normalizd = tf.transpose(x0_train_normalizd, perm=[0, 2, 1])\n",
    "x0_train_normalizd.shape"
   ]
  },
  {
   "cell_type": "code",
   "execution_count": 15,
   "id": "deaacab9-a17c-42d1-b8dd-e3f7bbc641a2",
   "metadata": {},
   "outputs": [
    {
     "data": {
      "text/plain": [
       "TensorShape([199981, 20, 14])"
      ]
     },
     "execution_count": 15,
     "metadata": {},
     "output_type": "execute_result"
    }
   ],
   "source": [
    "data = tf.transpose(x0_val_windows, perm=[0, 2, 1])\n",
    "x0_val_normalizd = normalizer_layer(data)\n",
    "x0_val_normalizd = tf.transpose(x0_val_normalizd, perm=[0, 2, 1])\n",
    "x0_val_normalizd.shape"
   ]
  },
  {
   "cell_type": "code",
   "execution_count": 16,
   "id": "3e248926-2437-4dc4-9277-1b4710ab9b50",
   "metadata": {},
   "outputs": [],
   "source": [
    "y_train_encoded_matched = y_train_encoded[:len(x0_train_normalizd)]\n",
    "\n",
    "y_val_encoded_matched = y_val_encoded[:len(x0_val_normalizd)]"
   ]
  },
  {
   "cell_type": "code",
   "execution_count": 17,
   "id": "c7e83938-5b9a-47d8-9c05-effef74cf971",
   "metadata": {},
   "outputs": [
    {
     "name": "stdout",
     "output_type": "stream",
     "text": [
      "Epoch 1/20\n",
      "\u001b[1m6250/6250\u001b[0m \u001b[32m━━━━━━━━━━━━━━━━━━━━\u001b[0m\u001b[37m\u001b[0m \u001b[1m188s\u001b[0m 29ms/step - accuracy: 0.4277 - loss: 1.3328 - val_accuracy: 0.4745 - val_loss: 1.1316\n",
      "Epoch 2/20\n",
      "\u001b[1m6250/6250\u001b[0m \u001b[32m━━━━━━━━━━━━━━━━━━━━\u001b[0m\u001b[37m\u001b[0m \u001b[1m202s\u001b[0m 29ms/step - accuracy: 0.5528 - loss: 1.0252 - val_accuracy: 0.4676 - val_loss: 1.1640\n",
      "Epoch 3/20\n",
      "\u001b[1m6250/6250\u001b[0m \u001b[32m━━━━━━━━━━━━━━━━━━━━\u001b[0m\u001b[37m\u001b[0m \u001b[1m203s\u001b[0m 30ms/step - accuracy: 0.5916 - loss: 0.9577 - val_accuracy: 0.4752 - val_loss: 1.1560\n",
      "Epoch 4/20\n",
      "\u001b[1m6250/6250\u001b[0m \u001b[32m━━━━━━━━━━━━━━━━━━━━\u001b[0m\u001b[37m\u001b[0m \u001b[1m189s\u001b[0m 30ms/step - accuracy: 0.6139 - loss: 0.9144 - val_accuracy: 0.4826 - val_loss: 1.1725\n"
     ]
    }
   ],
   "source": [
    "# Define EarlyStopping callback\n",
    "early_stopping_callback = EarlyStopping(monitor=\"val_loss\", patience=3, mode=\"min\")\n",
    "\n",
    "# Train the model with EarlyStopping callback\n",
    "history1 = model1.fit(x0_train_normalizd, y_train_encoded_matched, epochs=20, batch_size=128,  validation_data=(x0_val_normalizd, y_val_encoded_matched), callbacks=[early_stopping_callback])"
   ]
  },
  {
   "cell_type": "markdown",
   "id": "42ac81db-d330-4678-b1e0-964c6d8b00d7",
   "metadata": {},
   "source": [
    "- Architecture 2: LSTM-Dense-GRU with BSMs and plausibility checks data as sequences"
   ]
  },
  {
   "cell_type": "code",
   "execution_count": 18,
   "id": "f472809e-4776-48f9-82b2-704d7712950d",
   "metadata": {},
   "outputs": [
    {
     "data": {
      "text/html": [
       "<pre style=\"white-space:pre;overflow-x:auto;line-height:normal;font-family:Menlo,'DejaVu Sans Mono',consolas,'Courier New',monospace\"><span style=\"font-weight: bold\">Model: \"functional_1\"</span>\n",
       "</pre>\n"
      ],
      "text/plain": [
       "\u001b[1mModel: \"functional_1\"\u001b[0m\n"
      ]
     },
     "metadata": {},
     "output_type": "display_data"
    },
    {
     "data": {
      "text/html": [
       "<pre style=\"white-space:pre;overflow-x:auto;line-height:normal;font-family:Menlo,'DejaVu Sans Mono',consolas,'Courier New',monospace\">┏━━━━━━━━━━━━━━━━━━━━━━━━━━━━━━━━━┳━━━━━━━━━━━━━━━━━━━━━━━━┳━━━━━━━━━━━━━━━┓\n",
       "┃<span style=\"font-weight: bold\"> Layer (type)                    </span>┃<span style=\"font-weight: bold\"> Output Shape           </span>┃<span style=\"font-weight: bold\">       Param # </span>┃\n",
       "┡━━━━━━━━━━━━━━━━━━━━━━━━━━━━━━━━━╇━━━━━━━━━━━━━━━━━━━━━━━━╇━━━━━━━━━━━━━━━┩\n",
       "│ input_layer_1 (<span style=\"color: #0087ff; text-decoration-color: #0087ff\">InputLayer</span>)      │ (<span style=\"color: #00d7ff; text-decoration-color: #00d7ff\">None</span>, <span style=\"color: #00af00; text-decoration-color: #00af00\">20</span>, <span style=\"color: #00af00; text-decoration-color: #00af00\">50</span>)         │             <span style=\"color: #00af00; text-decoration-color: #00af00\">0</span> │\n",
       "├─────────────────────────────────┼────────────────────────┼───────────────┤\n",
       "│ bidirectional_1 (<span style=\"color: #0087ff; text-decoration-color: #0087ff\">Bidirectional</span>) │ (<span style=\"color: #00d7ff; text-decoration-color: #00d7ff\">None</span>, <span style=\"color: #00af00; text-decoration-color: #00af00\">20</span>, <span style=\"color: #00af00; text-decoration-color: #00af00\">46</span>)         │        <span style=\"color: #00af00; text-decoration-color: #00af00\">13,616</span> │\n",
       "├─────────────────────────────────┼────────────────────────┼───────────────┤\n",
       "│ batch_normalization_3           │ (<span style=\"color: #00d7ff; text-decoration-color: #00d7ff\">None</span>, <span style=\"color: #00af00; text-decoration-color: #00af00\">20</span>, <span style=\"color: #00af00; text-decoration-color: #00af00\">46</span>)         │           <span style=\"color: #00af00; text-decoration-color: #00af00\">184</span> │\n",
       "│ (<span style=\"color: #0087ff; text-decoration-color: #0087ff\">BatchNormalization</span>)            │                        │               │\n",
       "├─────────────────────────────────┼────────────────────────┼───────────────┤\n",
       "│ dense_5 (<span style=\"color: #0087ff; text-decoration-color: #0087ff\">Dense</span>)                 │ (<span style=\"color: #00d7ff; text-decoration-color: #00d7ff\">None</span>, <span style=\"color: #00af00; text-decoration-color: #00af00\">20</span>, <span style=\"color: #00af00; text-decoration-color: #00af00\">23</span>)         │         <span style=\"color: #00af00; text-decoration-color: #00af00\">1,081</span> │\n",
       "├─────────────────────────────────┼────────────────────────┼───────────────┤\n",
       "│ batch_normalization_4           │ (<span style=\"color: #00d7ff; text-decoration-color: #00d7ff\">None</span>, <span style=\"color: #00af00; text-decoration-color: #00af00\">20</span>, <span style=\"color: #00af00; text-decoration-color: #00af00\">23</span>)         │            <span style=\"color: #00af00; text-decoration-color: #00af00\">92</span> │\n",
       "│ (<span style=\"color: #0087ff; text-decoration-color: #0087ff\">BatchNormalization</span>)            │                        │               │\n",
       "├─────────────────────────────────┼────────────────────────┼───────────────┤\n",
       "│ gru_1 (<span style=\"color: #0087ff; text-decoration-color: #0087ff\">GRU</span>)                     │ (<span style=\"color: #00d7ff; text-decoration-color: #00d7ff\">None</span>, <span style=\"color: #00af00; text-decoration-color: #00af00\">12</span>)             │         <span style=\"color: #00af00; text-decoration-color: #00af00\">1,332</span> │\n",
       "├─────────────────────────────────┼────────────────────────┼───────────────┤\n",
       "│ batch_normalization_5           │ (<span style=\"color: #00d7ff; text-decoration-color: #00d7ff\">None</span>, <span style=\"color: #00af00; text-decoration-color: #00af00\">12</span>)             │            <span style=\"color: #00af00; text-decoration-color: #00af00\">48</span> │\n",
       "│ (<span style=\"color: #0087ff; text-decoration-color: #0087ff\">BatchNormalization</span>)            │                        │               │\n",
       "├─────────────────────────────────┼────────────────────────┼───────────────┤\n",
       "│ dense_6 (<span style=\"color: #0087ff; text-decoration-color: #0087ff\">Dense</span>)                 │ (<span style=\"color: #00d7ff; text-decoration-color: #00d7ff\">None</span>, <span style=\"color: #00af00; text-decoration-color: #00af00\">6</span>)              │            <span style=\"color: #00af00; text-decoration-color: #00af00\">78</span> │\n",
       "└─────────────────────────────────┴────────────────────────┴───────────────┘\n",
       "</pre>\n"
      ],
      "text/plain": [
       "┏━━━━━━━━━━━━━━━━━━━━━━━━━━━━━━━━━┳━━━━━━━━━━━━━━━━━━━━━━━━┳━━━━━━━━━━━━━━━┓\n",
       "┃\u001b[1m \u001b[0m\u001b[1mLayer (type)                   \u001b[0m\u001b[1m \u001b[0m┃\u001b[1m \u001b[0m\u001b[1mOutput Shape          \u001b[0m\u001b[1m \u001b[0m┃\u001b[1m \u001b[0m\u001b[1m      Param #\u001b[0m\u001b[1m \u001b[0m┃\n",
       "┡━━━━━━━━━━━━━━━━━━━━━━━━━━━━━━━━━╇━━━━━━━━━━━━━━━━━━━━━━━━╇━━━━━━━━━━━━━━━┩\n",
       "│ input_layer_1 (\u001b[38;5;33mInputLayer\u001b[0m)      │ (\u001b[38;5;45mNone\u001b[0m, \u001b[38;5;34m20\u001b[0m, \u001b[38;5;34m50\u001b[0m)         │             \u001b[38;5;34m0\u001b[0m │\n",
       "├─────────────────────────────────┼────────────────────────┼───────────────┤\n",
       "│ bidirectional_1 (\u001b[38;5;33mBidirectional\u001b[0m) │ (\u001b[38;5;45mNone\u001b[0m, \u001b[38;5;34m20\u001b[0m, \u001b[38;5;34m46\u001b[0m)         │        \u001b[38;5;34m13,616\u001b[0m │\n",
       "├─────────────────────────────────┼────────────────────────┼───────────────┤\n",
       "│ batch_normalization_3           │ (\u001b[38;5;45mNone\u001b[0m, \u001b[38;5;34m20\u001b[0m, \u001b[38;5;34m46\u001b[0m)         │           \u001b[38;5;34m184\u001b[0m │\n",
       "│ (\u001b[38;5;33mBatchNormalization\u001b[0m)            │                        │               │\n",
       "├─────────────────────────────────┼────────────────────────┼───────────────┤\n",
       "│ dense_5 (\u001b[38;5;33mDense\u001b[0m)                 │ (\u001b[38;5;45mNone\u001b[0m, \u001b[38;5;34m20\u001b[0m, \u001b[38;5;34m23\u001b[0m)         │         \u001b[38;5;34m1,081\u001b[0m │\n",
       "├─────────────────────────────────┼────────────────────────┼───────────────┤\n",
       "│ batch_normalization_4           │ (\u001b[38;5;45mNone\u001b[0m, \u001b[38;5;34m20\u001b[0m, \u001b[38;5;34m23\u001b[0m)         │            \u001b[38;5;34m92\u001b[0m │\n",
       "│ (\u001b[38;5;33mBatchNormalization\u001b[0m)            │                        │               │\n",
       "├─────────────────────────────────┼────────────────────────┼───────────────┤\n",
       "│ gru_1 (\u001b[38;5;33mGRU\u001b[0m)                     │ (\u001b[38;5;45mNone\u001b[0m, \u001b[38;5;34m12\u001b[0m)             │         \u001b[38;5;34m1,332\u001b[0m │\n",
       "├─────────────────────────────────┼────────────────────────┼───────────────┤\n",
       "│ batch_normalization_5           │ (\u001b[38;5;45mNone\u001b[0m, \u001b[38;5;34m12\u001b[0m)             │            \u001b[38;5;34m48\u001b[0m │\n",
       "│ (\u001b[38;5;33mBatchNormalization\u001b[0m)            │                        │               │\n",
       "├─────────────────────────────────┼────────────────────────┼───────────────┤\n",
       "│ dense_6 (\u001b[38;5;33mDense\u001b[0m)                 │ (\u001b[38;5;45mNone\u001b[0m, \u001b[38;5;34m6\u001b[0m)              │            \u001b[38;5;34m78\u001b[0m │\n",
       "└─────────────────────────────────┴────────────────────────┴───────────────┘\n"
      ]
     },
     "metadata": {},
     "output_type": "display_data"
    },
    {
     "data": {
      "text/html": [
       "<pre style=\"white-space:pre;overflow-x:auto;line-height:normal;font-family:Menlo,'DejaVu Sans Mono',consolas,'Courier New',monospace\"><span style=\"font-weight: bold\"> Total params: </span><span style=\"color: #00af00; text-decoration-color: #00af00\">16,431</span> (128.37 KB)\n",
       "</pre>\n"
      ],
      "text/plain": [
       "\u001b[1m Total params: \u001b[0m\u001b[38;5;34m16,431\u001b[0m (128.37 KB)\n"
      ]
     },
     "metadata": {},
     "output_type": "display_data"
    },
    {
     "data": {
      "text/html": [
       "<pre style=\"white-space:pre;overflow-x:auto;line-height:normal;font-family:Menlo,'DejaVu Sans Mono',consolas,'Courier New',monospace\"><span style=\"font-weight: bold\"> Trainable params: </span><span style=\"color: #00af00; text-decoration-color: #00af00\">16,269</span> (127.10 KB)\n",
       "</pre>\n"
      ],
      "text/plain": [
       "\u001b[1m Trainable params: \u001b[0m\u001b[38;5;34m16,269\u001b[0m (127.10 KB)\n"
      ]
     },
     "metadata": {},
     "output_type": "display_data"
    },
    {
     "data": {
      "text/html": [
       "<pre style=\"white-space:pre;overflow-x:auto;line-height:normal;font-family:Menlo,'DejaVu Sans Mono',consolas,'Courier New',monospace\"><span style=\"font-weight: bold\"> Non-trainable params: </span><span style=\"color: #00af00; text-decoration-color: #00af00\">162</span> (1.27 KB)\n",
       "</pre>\n"
      ],
      "text/plain": [
       "\u001b[1m Non-trainable params: \u001b[0m\u001b[38;5;34m162\u001b[0m (1.27 KB)\n"
      ]
     },
     "metadata": {},
     "output_type": "display_data"
    }
   ],
   "source": [
    "# Define the input layer\n",
    "input_layer = Input(shape=(20, 50))\n",
    "\n",
    "# Build the model using the input\n",
    "x = Bidirectional(LSTM(23, return_sequences=True))(input_layer)\n",
    "x = BatchNormalization()(x)\n",
    "x = Dense(23, activation='relu')(x)\n",
    "x = BatchNormalization()(x)\n",
    "x = GRU(12, return_sequences=False)(x)\n",
    "x = BatchNormalization()(x)\n",
    "output_layer = Dense(6, activation='softmax')(x)\n",
    "\n",
    "# Create the model\n",
    "model2 = Model(inputs=input_layer, outputs=output_layer)\n",
    "\n",
    "# Define the learning rate\n",
    "learning_rate = 0.001  # Adjust the learning rate as needed\n",
    "\n",
    "# Compile the model with Adam optimizer and specified learning rate\n",
    "optimizer = Adam(learning_rate=learning_rate)\n",
    "\n",
    "model2.compile(optimizer=optimizer, loss='categorical_crossentropy', metrics=['accuracy'])\n",
    "\n",
    "# Print model summary\n",
    "model2.summary()"
   ]
  },
  {
   "cell_type": "code",
   "execution_count": 19,
   "id": "69c330b2-4fd1-4b4b-9b75-8c8cdc7aa820",
   "metadata": {},
   "outputs": [
    {
     "name": "stderr",
     "output_type": "stream",
     "text": [
      "2024-07-08 08:37:04.625468: W external/local_tsl/tsl/framework/cpu_allocator_impl.cc:83] Allocation of 6399848000 exceeds 10% of free system memory.\n",
      "2024-07-08 08:37:09.789674: W external/local_tsl/tsl/framework/cpu_allocator_impl.cc:83] Allocation of 6399848000 exceeds 10% of free system memory.\n",
      "2024-07-08 08:37:11.612473: W external/local_tsl/tsl/framework/cpu_allocator_impl.cc:83] Allocation of 6399848000 exceeds 10% of free system memory.\n",
      "2024-07-08 08:37:12.715589: W external/local_tsl/tsl/framework/cpu_allocator_impl.cc:83] Allocation of 6399848000 exceeds 10% of free system memory.\n",
      "2024-07-08 08:37:27.281256: W external/local_tsl/tsl/framework/cpu_allocator_impl.cc:83] Allocation of 6399848000 exceeds 10% of free system memory.\n"
     ]
    },
    {
     "data": {
      "text/plain": [
       "TensorShape([799981, 20, 50])"
      ]
     },
     "execution_count": 19,
     "metadata": {},
     "output_type": "execute_result"
    }
   ],
   "source": [
    "normalizer_layer = Adaptive_Normalizer_Layer(mode='full', input_dim=50)\n",
    "data = tf.transpose(x_train_windows, perm=[0, 2, 1])\n",
    "x_train_normalizd = normalizer_layer(data)\n",
    "x_train_normalizd = tf.transpose(x_train_normalizd, perm=[0, 2, 1])\n",
    "x_train_normalizd.shape"
   ]
  },
  {
   "cell_type": "code",
   "execution_count": 20,
   "id": "f3f0acb5-8d8f-4e1a-9bee-565805a3ab2e",
   "metadata": {},
   "outputs": [
    {
     "data": {
      "text/plain": [
       "TensorShape([199981, 20, 50])"
      ]
     },
     "execution_count": 20,
     "metadata": {},
     "output_type": "execute_result"
    }
   ],
   "source": [
    "data = tf.transpose(x_val_windows, perm=[0, 2, 1])\n",
    "x_val_normalizd = normalizer_layer(data)\n",
    "x_val_normalizd = tf.transpose(x_val_normalizd, perm=[0, 2, 1])\n",
    "x_val_normalizd.shape"
   ]
  },
  {
   "cell_type": "code",
   "execution_count": 21,
   "id": "6726d37e-ebe7-4256-8878-2a1c17434e54",
   "metadata": {},
   "outputs": [],
   "source": [
    "y_train_encoded_matched = y_train_encoded[:len(x_train_normalizd)]\n",
    "\n",
    "y_val_encoded_matched = y_val_encoded[:len(x_val_normalizd)]"
   ]
  },
  {
   "cell_type": "code",
   "execution_count": 22,
   "id": "fc08fd2c-2eb7-4c00-9607-f67d2dba81a7",
   "metadata": {},
   "outputs": [
    {
     "name": "stdout",
     "output_type": "stream",
     "text": [
      "Epoch 1/20\n",
      "\u001b[1m6250/6250\u001b[0m \u001b[32m━━━━━━━━━━━━━━━━━━━━\u001b[0m\u001b[37m\u001b[0m \u001b[1m194s\u001b[0m 30ms/step - accuracy: 0.7601 - loss: 0.6167 - val_accuracy: 0.8822 - val_loss: 0.3068\n",
      "Epoch 2/20\n",
      "\u001b[1m6250/6250\u001b[0m \u001b[32m━━━━━━━━━━━━━━━━━━━━\u001b[0m\u001b[37m\u001b[0m \u001b[1m190s\u001b[0m 30ms/step - accuracy: 0.9271 - loss: 0.1879 - val_accuracy: 0.8780 - val_loss: 0.3300\n",
      "Epoch 3/20\n",
      "\u001b[1m6250/6250\u001b[0m \u001b[32m━━━━━━━━━━━━━━━━━━━━\u001b[0m\u001b[37m\u001b[0m \u001b[1m202s\u001b[0m 31ms/step - accuracy: 0.9405 - loss: 0.1552 - val_accuracy: 0.8830 - val_loss: 0.3243\n",
      "Epoch 4/20\n",
      "\u001b[1m6250/6250\u001b[0m \u001b[32m━━━━━━━━━━━━━━━━━━━━\u001b[0m\u001b[37m\u001b[0m \u001b[1m188s\u001b[0m 30ms/step - accuracy: 0.9474 - loss: 0.1386 - val_accuracy: 0.8841 - val_loss: 0.3264\n"
     ]
    }
   ],
   "source": [
    "# Define EarlyStopping callback\n",
    "early_stopping_callback = EarlyStopping(monitor=\"val_loss\", patience=3, mode=\"min\")\n",
    "\n",
    "# Train the model with EarlyStopping callback\n",
    "history2 = model2.fit(x_train_normalizd, y_train_encoded_matched, epochs=20, batch_size=128,  validation_data=(x_val_normalizd, y_val_encoded_matched), callbacks=[early_stopping_callback])"
   ]
  },
  {
   "cell_type": "markdown",
   "id": "ec003444-b76c-4b51-82f9-c9ad20d676bd",
   "metadata": {},
   "source": [
    "- Architecture 3: Proposed DML architecture with BSMs and plausibility data as sequences in a Multi-modal architecture (two branches: an LSTM-Dense-GRU with attention mechanism branch for processing the BSMs messages as time-series data, and an MLP branch for handling the plausibility checks as extra features)."
   ]
  },
  {
   "cell_type": "code",
   "execution_count": null,
   "id": "686984e0-e90c-46ba-9e22-c41d72ba0066",
   "metadata": {},
   "outputs": [],
   "source": []
  },
  {
   "cell_type": "code",
   "execution_count": 42,
   "id": "e094dd2c-8d55-4ceb-aa31-d201506caf7c",
   "metadata": {},
   "outputs": [
    {
     "data": {
      "text/html": [
       "<pre style=\"white-space:pre;overflow-x:auto;line-height:normal;font-family:Menlo,'DejaVu Sans Mono',consolas,'Courier New',monospace\"><span style=\"font-weight: bold\">Model: \"functional_5\"</span>\n",
       "</pre>\n"
      ],
      "text/plain": [
       "\u001b[1mModel: \"functional_5\"\u001b[0m\n"
      ]
     },
     "metadata": {},
     "output_type": "display_data"
    },
    {
     "data": {
      "text/html": [
       "<pre style=\"white-space:pre;overflow-x:auto;line-height:normal;font-family:Menlo,'DejaVu Sans Mono',consolas,'Courier New',monospace\">┏━━━━━━━━━━━━━━━━━━━━━┳━━━━━━━━━━━━━━━━━━━┳━━━━━━━━━━━━┳━━━━━━━━━━━━━━━━━━━┓\n",
       "┃<span style=\"font-weight: bold\"> Layer (type)        </span>┃<span style=\"font-weight: bold\"> Output Shape      </span>┃<span style=\"font-weight: bold\">    Param # </span>┃<span style=\"font-weight: bold\"> Connected to      </span>┃\n",
       "┡━━━━━━━━━━━━━━━━━━━━━╇━━━━━━━━━━━━━━━━━━━╇━━━━━━━━━━━━╇━━━━━━━━━━━━━━━━━━━┩\n",
       "│ input_layer_8       │ (<span style=\"color: #00d7ff; text-decoration-color: #00d7ff\">None</span>, <span style=\"color: #00af00; text-decoration-color: #00af00\">20</span>, <span style=\"color: #00af00; text-decoration-color: #00af00\">14</span>)    │          <span style=\"color: #00af00; text-decoration-color: #00af00\">0</span> │ -                 │\n",
       "│ (<span style=\"color: #0087ff; text-decoration-color: #0087ff\">InputLayer</span>)        │                   │            │                   │\n",
       "├─────────────────────┼───────────────────┼────────────┼───────────────────┤\n",
       "│ bidirectional_5     │ (<span style=\"color: #00d7ff; text-decoration-color: #00d7ff\">None</span>, <span style=\"color: #00af00; text-decoration-color: #00af00\">20</span>, <span style=\"color: #00af00; text-decoration-color: #00af00\">46</span>)    │      <span style=\"color: #00af00; text-decoration-color: #00af00\">6,992</span> │ input_layer_8[<span style=\"color: #00af00; text-decoration-color: #00af00\">0</span>]… │\n",
       "│ (<span style=\"color: #0087ff; text-decoration-color: #0087ff\">Bidirectional</span>)     │                   │            │                   │\n",
       "├─────────────────────┼───────────────────┼────────────┼───────────────────┤\n",
       "│ attention_3         │ (<span style=\"color: #00d7ff; text-decoration-color: #00d7ff\">None</span>, <span style=\"color: #00af00; text-decoration-color: #00af00\">20</span>, <span style=\"color: #00af00; text-decoration-color: #00af00\">46</span>)    │          <span style=\"color: #00af00; text-decoration-color: #00af00\">0</span> │ bidirectional_5[<span style=\"color: #00af00; text-decoration-color: #00af00\">…</span> │\n",
       "│ (<span style=\"color: #0087ff; text-decoration-color: #0087ff\">Attention</span>)         │                   │            │ bidirectional_5[<span style=\"color: #00af00; text-decoration-color: #00af00\">…</span> │\n",
       "├─────────────────────┼───────────────────┼────────────┼───────────────────┤\n",
       "│ dense_34 (<span style=\"color: #0087ff; text-decoration-color: #0087ff\">Dense</span>)    │ (<span style=\"color: #00d7ff; text-decoration-color: #00d7ff\">None</span>, <span style=\"color: #00af00; text-decoration-color: #00af00\">20</span>, <span style=\"color: #00af00; text-decoration-color: #00af00\">46</span>)    │      <span style=\"color: #00af00; text-decoration-color: #00af00\">2,162</span> │ attention_3[<span style=\"color: #00af00; text-decoration-color: #00af00\">0</span>][<span style=\"color: #00af00; text-decoration-color: #00af00\">0</span>] │\n",
       "├─────────────────────┼───────────────────┼────────────┼───────────────────┤\n",
       "│ subtract_3          │ (<span style=\"color: #00d7ff; text-decoration-color: #00d7ff\">None</span>, <span style=\"color: #00af00; text-decoration-color: #00af00\">20</span>, <span style=\"color: #00af00; text-decoration-color: #00af00\">46</span>)    │          <span style=\"color: #00af00; text-decoration-color: #00af00\">0</span> │ dense_34[<span style=\"color: #00af00; text-decoration-color: #00af00\">0</span>][<span style=\"color: #00af00; text-decoration-color: #00af00\">0</span>]    │\n",
       "│ (<span style=\"color: #0087ff; text-decoration-color: #0087ff\">Subtract</span>)          │                   │            │                   │\n",
       "├─────────────────────┼───────────────────┼────────────┼───────────────────┤\n",
       "│ multiply_6          │ (<span style=\"color: #00d7ff; text-decoration-color: #00d7ff\">None</span>, <span style=\"color: #00af00; text-decoration-color: #00af00\">20</span>, <span style=\"color: #00af00; text-decoration-color: #00af00\">46</span>)    │          <span style=\"color: #00af00; text-decoration-color: #00af00\">0</span> │ dense_34[<span style=\"color: #00af00; text-decoration-color: #00af00\">0</span>][<span style=\"color: #00af00; text-decoration-color: #00af00\">0</span>],   │\n",
       "│ (<span style=\"color: #0087ff; text-decoration-color: #0087ff\">Multiply</span>)          │                   │            │ bidirectional_5[<span style=\"color: #00af00; text-decoration-color: #00af00\">…</span> │\n",
       "├─────────────────────┼───────────────────┼────────────┼───────────────────┤\n",
       "│ multiply_7          │ (<span style=\"color: #00d7ff; text-decoration-color: #00d7ff\">None</span>, <span style=\"color: #00af00; text-decoration-color: #00af00\">20</span>, <span style=\"color: #00af00; text-decoration-color: #00af00\">46</span>)    │          <span style=\"color: #00af00; text-decoration-color: #00af00\">0</span> │ subtract_3[<span style=\"color: #00af00; text-decoration-color: #00af00\">0</span>][<span style=\"color: #00af00; text-decoration-color: #00af00\">0</span>], │\n",
       "│ (<span style=\"color: #0087ff; text-decoration-color: #0087ff\">Multiply</span>)          │                   │            │ attention_3[<span style=\"color: #00af00; text-decoration-color: #00af00\">0</span>][<span style=\"color: #00af00; text-decoration-color: #00af00\">0</span>] │\n",
       "├─────────────────────┼───────────────────┼────────────┼───────────────────┤\n",
       "│ add_3 (<span style=\"color: #0087ff; text-decoration-color: #0087ff\">Add</span>)         │ (<span style=\"color: #00d7ff; text-decoration-color: #00d7ff\">None</span>, <span style=\"color: #00af00; text-decoration-color: #00af00\">20</span>, <span style=\"color: #00af00; text-decoration-color: #00af00\">46</span>)    │          <span style=\"color: #00af00; text-decoration-color: #00af00\">0</span> │ multiply_6[<span style=\"color: #00af00; text-decoration-color: #00af00\">0</span>][<span style=\"color: #00af00; text-decoration-color: #00af00\">0</span>], │\n",
       "│                     │                   │            │ multiply_7[<span style=\"color: #00af00; text-decoration-color: #00af00\">0</span>][<span style=\"color: #00af00; text-decoration-color: #00af00\">0</span>]  │\n",
       "├─────────────────────┼───────────────────┼────────────┼───────────────────┤\n",
       "│ batch_normalizatio… │ (<span style=\"color: #00d7ff; text-decoration-color: #00d7ff\">None</span>, <span style=\"color: #00af00; text-decoration-color: #00af00\">20</span>, <span style=\"color: #00af00; text-decoration-color: #00af00\">46</span>)    │        <span style=\"color: #00af00; text-decoration-color: #00af00\">184</span> │ add_3[<span style=\"color: #00af00; text-decoration-color: #00af00\">0</span>][<span style=\"color: #00af00; text-decoration-color: #00af00\">0</span>]       │\n",
       "│ (<span style=\"color: #0087ff; text-decoration-color: #0087ff\">BatchNormalizatio…</span> │                   │            │                   │\n",
       "├─────────────────────┼───────────────────┼────────────┼───────────────────┤\n",
       "│ dense_35 (<span style=\"color: #0087ff; text-decoration-color: #0087ff\">Dense</span>)    │ (<span style=\"color: #00d7ff; text-decoration-color: #00d7ff\">None</span>, <span style=\"color: #00af00; text-decoration-color: #00af00\">20</span>, <span style=\"color: #00af00; text-decoration-color: #00af00\">23</span>)    │      <span style=\"color: #00af00; text-decoration-color: #00af00\">1,081</span> │ batch_normalizat… │\n",
       "├─────────────────────┼───────────────────┼────────────┼───────────────────┤\n",
       "│ batch_normalizatio… │ (<span style=\"color: #00d7ff; text-decoration-color: #00d7ff\">None</span>, <span style=\"color: #00af00; text-decoration-color: #00af00\">20</span>, <span style=\"color: #00af00; text-decoration-color: #00af00\">23</span>)    │         <span style=\"color: #00af00; text-decoration-color: #00af00\">92</span> │ dense_35[<span style=\"color: #00af00; text-decoration-color: #00af00\">0</span>][<span style=\"color: #00af00; text-decoration-color: #00af00\">0</span>]    │\n",
       "│ (<span style=\"color: #0087ff; text-decoration-color: #0087ff\">BatchNormalizatio…</span> │                   │            │                   │\n",
       "├─────────────────────┼───────────────────┼────────────┼───────────────────┤\n",
       "│ input_layer_9       │ (<span style=\"color: #00d7ff; text-decoration-color: #00d7ff\">None</span>, <span style=\"color: #00af00; text-decoration-color: #00af00\">36</span>)        │          <span style=\"color: #00af00; text-decoration-color: #00af00\">0</span> │ -                 │\n",
       "│ (<span style=\"color: #0087ff; text-decoration-color: #0087ff\">InputLayer</span>)        │                   │            │                   │\n",
       "├─────────────────────┼───────────────────┼────────────┼───────────────────┤\n",
       "│ gru_5 (<span style=\"color: #0087ff; text-decoration-color: #0087ff\">GRU</span>)         │ (<span style=\"color: #00d7ff; text-decoration-color: #00d7ff\">None</span>, <span style=\"color: #00af00; text-decoration-color: #00af00\">12</span>)        │      <span style=\"color: #00af00; text-decoration-color: #00af00\">1,332</span> │ batch_normalizat… │\n",
       "├─────────────────────┼───────────────────┼────────────┼───────────────────┤\n",
       "│ dense_36 (<span style=\"color: #0087ff; text-decoration-color: #0087ff\">Dense</span>)    │ (<span style=\"color: #00d7ff; text-decoration-color: #00d7ff\">None</span>, <span style=\"color: #00af00; text-decoration-color: #00af00\">100</span>)       │      <span style=\"color: #00af00; text-decoration-color: #00af00\">3,700</span> │ input_layer_9[<span style=\"color: #00af00; text-decoration-color: #00af00\">0</span>]… │\n",
       "├─────────────────────┼───────────────────┼────────────┼───────────────────┤\n",
       "│ batch_normalizatio… │ (<span style=\"color: #00d7ff; text-decoration-color: #00d7ff\">None</span>, <span style=\"color: #00af00; text-decoration-color: #00af00\">12</span>)        │         <span style=\"color: #00af00; text-decoration-color: #00af00\">48</span> │ gru_5[<span style=\"color: #00af00; text-decoration-color: #00af00\">0</span>][<span style=\"color: #00af00; text-decoration-color: #00af00\">0</span>]       │\n",
       "│ (<span style=\"color: #0087ff; text-decoration-color: #0087ff\">BatchNormalizatio…</span> │                   │            │                   │\n",
       "├─────────────────────┼───────────────────┼────────────┼───────────────────┤\n",
       "│ batch_normalizatio… │ (<span style=\"color: #00d7ff; text-decoration-color: #00d7ff\">None</span>, <span style=\"color: #00af00; text-decoration-color: #00af00\">100</span>)       │        <span style=\"color: #00af00; text-decoration-color: #00af00\">400</span> │ dense_36[<span style=\"color: #00af00; text-decoration-color: #00af00\">0</span>][<span style=\"color: #00af00; text-decoration-color: #00af00\">0</span>]    │\n",
       "│ (<span style=\"color: #0087ff; text-decoration-color: #0087ff\">BatchNormalizatio…</span> │                   │            │                   │\n",
       "├─────────────────────┼───────────────────┼────────────┼───────────────────┤\n",
       "│ concatenate_3       │ (<span style=\"color: #00d7ff; text-decoration-color: #00d7ff\">None</span>, <span style=\"color: #00af00; text-decoration-color: #00af00\">112</span>)       │          <span style=\"color: #00af00; text-decoration-color: #00af00\">0</span> │ batch_normalizat… │\n",
       "│ (<span style=\"color: #0087ff; text-decoration-color: #0087ff\">Concatenate</span>)       │                   │            │ batch_normalizat… │\n",
       "├─────────────────────┼───────────────────┼────────────┼───────────────────┤\n",
       "│ dense_37 (<span style=\"color: #0087ff; text-decoration-color: #0087ff\">Dense</span>)    │ (<span style=\"color: #00d7ff; text-decoration-color: #00d7ff\">None</span>, <span style=\"color: #00af00; text-decoration-color: #00af00\">24</span>)        │      <span style=\"color: #00af00; text-decoration-color: #00af00\">2,712</span> │ concatenate_3[<span style=\"color: #00af00; text-decoration-color: #00af00\">0</span>]… │\n",
       "├─────────────────────┼───────────────────┼────────────┼───────────────────┤\n",
       "│ batch_normalizatio… │ (<span style=\"color: #00d7ff; text-decoration-color: #00d7ff\">None</span>, <span style=\"color: #00af00; text-decoration-color: #00af00\">24</span>)        │         <span style=\"color: #00af00; text-decoration-color: #00af00\">96</span> │ dense_37[<span style=\"color: #00af00; text-decoration-color: #00af00\">0</span>][<span style=\"color: #00af00; text-decoration-color: #00af00\">0</span>]    │\n",
       "│ (<span style=\"color: #0087ff; text-decoration-color: #0087ff\">BatchNormalizatio…</span> │                   │            │                   │\n",
       "├─────────────────────┼───────────────────┼────────────┼───────────────────┤\n",
       "│ dense_38 (<span style=\"color: #0087ff; text-decoration-color: #0087ff\">Dense</span>)    │ (<span style=\"color: #00d7ff; text-decoration-color: #00d7ff\">None</span>, <span style=\"color: #00af00; text-decoration-color: #00af00\">6</span>)         │        <span style=\"color: #00af00; text-decoration-color: #00af00\">150</span> │ batch_normalizat… │\n",
       "└─────────────────────┴───────────────────┴────────────┴───────────────────┘\n",
       "</pre>\n"
      ],
      "text/plain": [
       "┏━━━━━━━━━━━━━━━━━━━━━┳━━━━━━━━━━━━━━━━━━━┳━━━━━━━━━━━━┳━━━━━━━━━━━━━━━━━━━┓\n",
       "┃\u001b[1m \u001b[0m\u001b[1mLayer (type)       \u001b[0m\u001b[1m \u001b[0m┃\u001b[1m \u001b[0m\u001b[1mOutput Shape     \u001b[0m\u001b[1m \u001b[0m┃\u001b[1m \u001b[0m\u001b[1m   Param #\u001b[0m\u001b[1m \u001b[0m┃\u001b[1m \u001b[0m\u001b[1mConnected to     \u001b[0m\u001b[1m \u001b[0m┃\n",
       "┡━━━━━━━━━━━━━━━━━━━━━╇━━━━━━━━━━━━━━━━━━━╇━━━━━━━━━━━━╇━━━━━━━━━━━━━━━━━━━┩\n",
       "│ input_layer_8       │ (\u001b[38;5;45mNone\u001b[0m, \u001b[38;5;34m20\u001b[0m, \u001b[38;5;34m14\u001b[0m)    │          \u001b[38;5;34m0\u001b[0m │ -                 │\n",
       "│ (\u001b[38;5;33mInputLayer\u001b[0m)        │                   │            │                   │\n",
       "├─────────────────────┼───────────────────┼────────────┼───────────────────┤\n",
       "│ bidirectional_5     │ (\u001b[38;5;45mNone\u001b[0m, \u001b[38;5;34m20\u001b[0m, \u001b[38;5;34m46\u001b[0m)    │      \u001b[38;5;34m6,992\u001b[0m │ input_layer_8[\u001b[38;5;34m0\u001b[0m]… │\n",
       "│ (\u001b[38;5;33mBidirectional\u001b[0m)     │                   │            │                   │\n",
       "├─────────────────────┼───────────────────┼────────────┼───────────────────┤\n",
       "│ attention_3         │ (\u001b[38;5;45mNone\u001b[0m, \u001b[38;5;34m20\u001b[0m, \u001b[38;5;34m46\u001b[0m)    │          \u001b[38;5;34m0\u001b[0m │ bidirectional_5[\u001b[38;5;34m…\u001b[0m │\n",
       "│ (\u001b[38;5;33mAttention\u001b[0m)         │                   │            │ bidirectional_5[\u001b[38;5;34m…\u001b[0m │\n",
       "├─────────────────────┼───────────────────┼────────────┼───────────────────┤\n",
       "│ dense_34 (\u001b[38;5;33mDense\u001b[0m)    │ (\u001b[38;5;45mNone\u001b[0m, \u001b[38;5;34m20\u001b[0m, \u001b[38;5;34m46\u001b[0m)    │      \u001b[38;5;34m2,162\u001b[0m │ attention_3[\u001b[38;5;34m0\u001b[0m][\u001b[38;5;34m0\u001b[0m] │\n",
       "├─────────────────────┼───────────────────┼────────────┼───────────────────┤\n",
       "│ subtract_3          │ (\u001b[38;5;45mNone\u001b[0m, \u001b[38;5;34m20\u001b[0m, \u001b[38;5;34m46\u001b[0m)    │          \u001b[38;5;34m0\u001b[0m │ dense_34[\u001b[38;5;34m0\u001b[0m][\u001b[38;5;34m0\u001b[0m]    │\n",
       "│ (\u001b[38;5;33mSubtract\u001b[0m)          │                   │            │                   │\n",
       "├─────────────────────┼───────────────────┼────────────┼───────────────────┤\n",
       "│ multiply_6          │ (\u001b[38;5;45mNone\u001b[0m, \u001b[38;5;34m20\u001b[0m, \u001b[38;5;34m46\u001b[0m)    │          \u001b[38;5;34m0\u001b[0m │ dense_34[\u001b[38;5;34m0\u001b[0m][\u001b[38;5;34m0\u001b[0m],   │\n",
       "│ (\u001b[38;5;33mMultiply\u001b[0m)          │                   │            │ bidirectional_5[\u001b[38;5;34m…\u001b[0m │\n",
       "├─────────────────────┼───────────────────┼────────────┼───────────────────┤\n",
       "│ multiply_7          │ (\u001b[38;5;45mNone\u001b[0m, \u001b[38;5;34m20\u001b[0m, \u001b[38;5;34m46\u001b[0m)    │          \u001b[38;5;34m0\u001b[0m │ subtract_3[\u001b[38;5;34m0\u001b[0m][\u001b[38;5;34m0\u001b[0m], │\n",
       "│ (\u001b[38;5;33mMultiply\u001b[0m)          │                   │            │ attention_3[\u001b[38;5;34m0\u001b[0m][\u001b[38;5;34m0\u001b[0m] │\n",
       "├─────────────────────┼───────────────────┼────────────┼───────────────────┤\n",
       "│ add_3 (\u001b[38;5;33mAdd\u001b[0m)         │ (\u001b[38;5;45mNone\u001b[0m, \u001b[38;5;34m20\u001b[0m, \u001b[38;5;34m46\u001b[0m)    │          \u001b[38;5;34m0\u001b[0m │ multiply_6[\u001b[38;5;34m0\u001b[0m][\u001b[38;5;34m0\u001b[0m], │\n",
       "│                     │                   │            │ multiply_7[\u001b[38;5;34m0\u001b[0m][\u001b[38;5;34m0\u001b[0m]  │\n",
       "├─────────────────────┼───────────────────┼────────────┼───────────────────┤\n",
       "│ batch_normalizatio… │ (\u001b[38;5;45mNone\u001b[0m, \u001b[38;5;34m20\u001b[0m, \u001b[38;5;34m46\u001b[0m)    │        \u001b[38;5;34m184\u001b[0m │ add_3[\u001b[38;5;34m0\u001b[0m][\u001b[38;5;34m0\u001b[0m]       │\n",
       "│ (\u001b[38;5;33mBatchNormalizatio…\u001b[0m │                   │            │                   │\n",
       "├─────────────────────┼───────────────────┼────────────┼───────────────────┤\n",
       "│ dense_35 (\u001b[38;5;33mDense\u001b[0m)    │ (\u001b[38;5;45mNone\u001b[0m, \u001b[38;5;34m20\u001b[0m, \u001b[38;5;34m23\u001b[0m)    │      \u001b[38;5;34m1,081\u001b[0m │ batch_normalizat… │\n",
       "├─────────────────────┼───────────────────┼────────────┼───────────────────┤\n",
       "│ batch_normalizatio… │ (\u001b[38;5;45mNone\u001b[0m, \u001b[38;5;34m20\u001b[0m, \u001b[38;5;34m23\u001b[0m)    │         \u001b[38;5;34m92\u001b[0m │ dense_35[\u001b[38;5;34m0\u001b[0m][\u001b[38;5;34m0\u001b[0m]    │\n",
       "│ (\u001b[38;5;33mBatchNormalizatio…\u001b[0m │                   │            │                   │\n",
       "├─────────────────────┼───────────────────┼────────────┼───────────────────┤\n",
       "│ input_layer_9       │ (\u001b[38;5;45mNone\u001b[0m, \u001b[38;5;34m36\u001b[0m)        │          \u001b[38;5;34m0\u001b[0m │ -                 │\n",
       "│ (\u001b[38;5;33mInputLayer\u001b[0m)        │                   │            │                   │\n",
       "├─────────────────────┼───────────────────┼────────────┼───────────────────┤\n",
       "│ gru_5 (\u001b[38;5;33mGRU\u001b[0m)         │ (\u001b[38;5;45mNone\u001b[0m, \u001b[38;5;34m12\u001b[0m)        │      \u001b[38;5;34m1,332\u001b[0m │ batch_normalizat… │\n",
       "├─────────────────────┼───────────────────┼────────────┼───────────────────┤\n",
       "│ dense_36 (\u001b[38;5;33mDense\u001b[0m)    │ (\u001b[38;5;45mNone\u001b[0m, \u001b[38;5;34m100\u001b[0m)       │      \u001b[38;5;34m3,700\u001b[0m │ input_layer_9[\u001b[38;5;34m0\u001b[0m]… │\n",
       "├─────────────────────┼───────────────────┼────────────┼───────────────────┤\n",
       "│ batch_normalizatio… │ (\u001b[38;5;45mNone\u001b[0m, \u001b[38;5;34m12\u001b[0m)        │         \u001b[38;5;34m48\u001b[0m │ gru_5[\u001b[38;5;34m0\u001b[0m][\u001b[38;5;34m0\u001b[0m]       │\n",
       "│ (\u001b[38;5;33mBatchNormalizatio…\u001b[0m │                   │            │                   │\n",
       "├─────────────────────┼───────────────────┼────────────┼───────────────────┤\n",
       "│ batch_normalizatio… │ (\u001b[38;5;45mNone\u001b[0m, \u001b[38;5;34m100\u001b[0m)       │        \u001b[38;5;34m400\u001b[0m │ dense_36[\u001b[38;5;34m0\u001b[0m][\u001b[38;5;34m0\u001b[0m]    │\n",
       "│ (\u001b[38;5;33mBatchNormalizatio…\u001b[0m │                   │            │                   │\n",
       "├─────────────────────┼───────────────────┼────────────┼───────────────────┤\n",
       "│ concatenate_3       │ (\u001b[38;5;45mNone\u001b[0m, \u001b[38;5;34m112\u001b[0m)       │          \u001b[38;5;34m0\u001b[0m │ batch_normalizat… │\n",
       "│ (\u001b[38;5;33mConcatenate\u001b[0m)       │                   │            │ batch_normalizat… │\n",
       "├─────────────────────┼───────────────────┼────────────┼───────────────────┤\n",
       "│ dense_37 (\u001b[38;5;33mDense\u001b[0m)    │ (\u001b[38;5;45mNone\u001b[0m, \u001b[38;5;34m24\u001b[0m)        │      \u001b[38;5;34m2,712\u001b[0m │ concatenate_3[\u001b[38;5;34m0\u001b[0m]… │\n",
       "├─────────────────────┼───────────────────┼────────────┼───────────────────┤\n",
       "│ batch_normalizatio… │ (\u001b[38;5;45mNone\u001b[0m, \u001b[38;5;34m24\u001b[0m)        │         \u001b[38;5;34m96\u001b[0m │ dense_37[\u001b[38;5;34m0\u001b[0m][\u001b[38;5;34m0\u001b[0m]    │\n",
       "│ (\u001b[38;5;33mBatchNormalizatio…\u001b[0m │                   │            │                   │\n",
       "├─────────────────────┼───────────────────┼────────────┼───────────────────┤\n",
       "│ dense_38 (\u001b[38;5;33mDense\u001b[0m)    │ (\u001b[38;5;45mNone\u001b[0m, \u001b[38;5;34m6\u001b[0m)         │        \u001b[38;5;34m150\u001b[0m │ batch_normalizat… │\n",
       "└─────────────────────┴───────────────────┴────────────┴───────────────────┘\n"
      ]
     },
     "metadata": {},
     "output_type": "display_data"
    },
    {
     "data": {
      "text/html": [
       "<pre style=\"white-space:pre;overflow-x:auto;line-height:normal;font-family:Menlo,'DejaVu Sans Mono',consolas,'Courier New',monospace\"><span style=\"font-weight: bold\"> Total params: </span><span style=\"color: #00af00; text-decoration-color: #00af00\">18,949</span> (148.04 KB)\n",
       "</pre>\n"
      ],
      "text/plain": [
       "\u001b[1m Total params: \u001b[0m\u001b[38;5;34m18,949\u001b[0m (148.04 KB)\n"
      ]
     },
     "metadata": {},
     "output_type": "display_data"
    },
    {
     "data": {
      "text/html": [
       "<pre style=\"white-space:pre;overflow-x:auto;line-height:normal;font-family:Menlo,'DejaVu Sans Mono',consolas,'Courier New',monospace\"><span style=\"font-weight: bold\"> Trainable params: </span><span style=\"color: #00af00; text-decoration-color: #00af00\">18,539</span> (144.84 KB)\n",
       "</pre>\n"
      ],
      "text/plain": [
       "\u001b[1m Trainable params: \u001b[0m\u001b[38;5;34m18,539\u001b[0m (144.84 KB)\n"
      ]
     },
     "metadata": {},
     "output_type": "display_data"
    },
    {
     "data": {
      "text/html": [
       "<pre style=\"white-space:pre;overflow-x:auto;line-height:normal;font-family:Menlo,'DejaVu Sans Mono',consolas,'Courier New',monospace\"><span style=\"font-weight: bold\"> Non-trainable params: </span><span style=\"color: #00af00; text-decoration-color: #00af00\">410</span> (3.20 KB)\n",
       "</pre>\n"
      ],
      "text/plain": [
       "\u001b[1m Non-trainable params: \u001b[0m\u001b[38;5;34m410\u001b[0m (3.20 KB)\n"
      ]
     },
     "metadata": {},
     "output_type": "display_data"
    }
   ],
   "source": [
    "# Define the input layers\n",
    "input_lstm = Input(shape=(20, 14))\n",
    "input_mlp = Input(shape=(36,)) \n",
    "\n",
    "# LSTM layers\n",
    "x = Bidirectional(LSTM(23, return_sequences=True))(input_lstm)\n",
    "\n",
    "# Attention layer\n",
    "attention = Attention()([x, x])\n",
    "\n",
    "gate = Dense(units=x.shape[-1], activation='sigmoid')(attention)\n",
    "x = gate * x + (1 - gate) * attention\n",
    "x = BatchNormalization()(x)\n",
    "\n",
    "x = Dense(23, kernel_initializer='glorot_uniform', bias_initializer='zeros', activation='relu')(x)\n",
    "x = BatchNormalization()(x)\n",
    "x = GRU(12, return_sequences=False)(x)\n",
    "x = BatchNormalization()(x)\n",
    "\n",
    "# MLP layers\n",
    "mlp_output = Dense(100, kernel_initializer='glorot_uniform', bias_initializer='zeros', activation='relu')(input_mlp)\n",
    "mlp_output = BatchNormalization()(mlp_output)\n",
    "\n",
    "# Concatenate LSTM and MLP outputs\n",
    "combined_output = concatenate([x, mlp_output])\n",
    "combined_output = Dense(24, kernel_initializer='glorot_uniform', bias_initializer='zeros', activation='relu')(combined_output)\n",
    "combined_output = BatchNormalization()(combined_output)\n",
    "\n",
    "output_layer = Dense(6, activation='softmax')(combined_output)\n",
    "\n",
    "# Create the model\n",
    "model3 = Model(inputs=[input_lstm, input_mlp], outputs=output_layer)\n",
    "\n",
    "# Define the learning rate\n",
    "learning_rate = 0.001 # Adjust the learning rate as needed\n",
    "\n",
    "# Compile the model with Adam optimizer and specified learning rate\n",
    "optimizer = Adam(learning_rate=learning_rate)\n",
    "\n",
    "model3.compile(optimizer=optimizer, loss='categorical_crossentropy', metrics=['accuracy'])\n",
    "\n",
    "# Print model summary\n",
    "model3.summary()"
   ]
  },
  {
   "cell_type": "code",
   "execution_count": 38,
   "id": "ec8cf77e-be17-4cb6-a467-2e70e986280b",
   "metadata": {},
   "outputs": [],
   "source": [
    "x1_train_matched = x1_train[:len(x0_train_normalizd)]\n",
    "y_train_encoded_matched = y_train_encoded[:len(x0_train_normalizd)]\n",
    "\n",
    "x1_val_matched = x1_val[:len(x0_val_normalizd)]\n",
    "y_val_encoded_matched = y_val_encoded[:len(x0_val_normalizd)]"
   ]
  },
  {
   "cell_type": "markdown",
   "id": "6eca602b-d7d1-4196-bdf3-ad0a0de90428",
   "metadata": {},
   "source": [
    "- Initial Training Phase"
   ]
  },
  {
   "cell_type": "code",
   "execution_count": 43,
   "id": "d1d7393a-216d-461e-91cf-340338e2c0a0",
   "metadata": {},
   "outputs": [
    {
     "name": "stdout",
     "output_type": "stream",
     "text": [
      "Epoch 1/20\n",
      "\u001b[1m3907/3907\u001b[0m \u001b[32m━━━━━━━━━━━━━━━━━━━━\u001b[0m\u001b[37m\u001b[0m \u001b[1m169s\u001b[0m 42ms/step - accuracy: 0.8966 - loss: 0.2867 - val_accuracy: 0.9187 - val_loss: 0.2448\n",
      "Epoch 2/20\n",
      "\u001b[1m3907/3907\u001b[0m \u001b[32m━━━━━━━━━━━━━━━━━━━━\u001b[0m\u001b[37m\u001b[0m \u001b[1m163s\u001b[0m 42ms/step - accuracy: 0.9522 - loss: 0.1268 - val_accuracy: 0.9043 - val_loss: 0.2630\n",
      "Epoch 3/20\n",
      "\u001b[1m3907/3907\u001b[0m \u001b[32m━━━━━━━━━━━━━━━━━━━━\u001b[0m\u001b[37m\u001b[0m \u001b[1m201s\u001b[0m 41ms/step - accuracy: 0.9623 - loss: 0.1016 - val_accuracy: 0.9159 - val_loss: 0.2959\n",
      "Epoch 4/20\n",
      "\u001b[1m3907/3907\u001b[0m \u001b[32m━━━━━━━━━━━━━━━━━━━━\u001b[0m\u001b[37m\u001b[0m \u001b[1m160s\u001b[0m 41ms/step - accuracy: 0.9677 - loss: 0.0879 - val_accuracy: 0.9062 - val_loss: 0.2743\n",
      "Epoch 5/20\n",
      "\u001b[1m3907/3907\u001b[0m \u001b[32m━━━━━━━━━━━━━━━━━━━━\u001b[0m\u001b[37m\u001b[0m \u001b[1m160s\u001b[0m 41ms/step - accuracy: 0.9705 - loss: 0.0802 - val_accuracy: 0.8961 - val_loss: 0.3089\n",
      "Epoch 6/20\n",
      "\u001b[1m3907/3907\u001b[0m \u001b[32m━━━━━━━━━━━━━━━━━━━━\u001b[0m\u001b[37m\u001b[0m \u001b[1m161s\u001b[0m 41ms/step - accuracy: 0.9728 - loss: 0.0740 - val_accuracy: 0.9002 - val_loss: 0.3122\n"
     ]
    }
   ],
   "source": [
    "# Define EarlyStopping callback\n",
    "early_stopping_callback = EarlyStopping(monitor=\"val_loss\", patience=3, mode=\"min\")\n",
    "\n",
    "# Train the model with EarlyStopping callback\n",
    "history4 = model4.fit([x0_train_normalizd, x1_train_matched], y_train_encoded_matched, epochs=20, batch_size=128,  validation_data=([x0_val_normalizd, x1_val_matched], y_val_encoded_matched), callbacks=[early_stopping_callback])"
   ]
  },
  {
   "cell_type": "markdown",
   "id": "bd9ad580-2117-4697-8b2a-7da19a9fded0",
   "metadata": {},
   "source": [
    "- Self-Training Phase"
   ]
  },
  {
   "cell_type": "code",
   "execution_count": 44,
   "id": "8cf0db6a-1302-4993-acb3-d4ed8b10bbab",
   "metadata": {},
   "outputs": [
    {
     "name": "stdout",
     "output_type": "stream",
     "text": [
      "\u001b[1m6250/6250\u001b[0m \u001b[32m━━━━━━━━━━━━━━━━━━━━\u001b[0m\u001b[37m\u001b[0m \u001b[1m41s\u001b[0m 6ms/step\n",
      "162774\n",
      "\u001b[1m5178/5178\u001b[0m \u001b[32m━━━━━━━━━━━━━━━━━━━━\u001b[0m\u001b[37m\u001b[0m \u001b[1m203s\u001b[0m 39ms/step - accuracy: 0.9803 - loss: 0.0553 - val_accuracy: 0.9023 - val_loss: 0.3150\n",
      "\u001b[1m6250/6250\u001b[0m \u001b[32m━━━━━━━━━━━━━━━━━━━━\u001b[0m\u001b[37m\u001b[0m \u001b[1m42s\u001b[0m 7ms/step\n",
      "Iteration 1: Number of misclassified instances: 19534\n",
      "\u001b[1m6250/6250\u001b[0m \u001b[32m━━━━━━━━━━━━━━━━━━━━\u001b[0m\u001b[37m\u001b[0m \u001b[1m41s\u001b[0m 7ms/step\n",
      "164140\n",
      "\u001b[1m5189/5189\u001b[0m \u001b[32m━━━━━━━━━━━━━━━━━━━━\u001b[0m\u001b[37m\u001b[0m \u001b[1m208s\u001b[0m 40ms/step - accuracy: 0.9813 - loss: 0.0524 - val_accuracy: 0.9244 - val_loss: 0.3076\n",
      "\u001b[1m6250/6250\u001b[0m \u001b[32m━━━━━━━━━━━━━━━━━━━━\u001b[0m\u001b[37m\u001b[0m \u001b[1m42s\u001b[0m 7ms/step\n",
      "Iteration 2: Number of misclassified instances: 15127\n",
      "\u001b[1m6250/6250\u001b[0m \u001b[32m━━━━━━━━━━━━━━━━━━━━\u001b[0m\u001b[37m\u001b[0m \u001b[1m43s\u001b[0m 7ms/step\n",
      "174645\n",
      "\u001b[1m5271/5271\u001b[0m \u001b[32m━━━━━━━━━━━━━━━━━━━━\u001b[0m\u001b[37m\u001b[0m \u001b[1m208s\u001b[0m 39ms/step - accuracy: 0.9819 - loss: 0.0509 - val_accuracy: 0.9232 - val_loss: 0.3301\n",
      "\u001b[1m6250/6250\u001b[0m \u001b[32m━━━━━━━━━━━━━━━━━━━━\u001b[0m\u001b[37m\u001b[0m \u001b[1m40s\u001b[0m 6ms/step\n",
      "Iteration 3: Number of misclassified instances: 15356\n",
      "\u001b[1m6250/6250\u001b[0m \u001b[32m━━━━━━━━━━━━━━━━━━━━\u001b[0m\u001b[37m\u001b[0m \u001b[1m40s\u001b[0m 6ms/step\n",
      "175516\n",
      "\u001b[1m5278/5278\u001b[0m \u001b[32m━━━━━━━━━━━━━━━━━━━━\u001b[0m\u001b[37m\u001b[0m \u001b[1m209s\u001b[0m 40ms/step - accuracy: 0.9824 - loss: 0.0486 - val_accuracy: 0.9292 - val_loss: 0.3031\n",
      "\u001b[1m6250/6250\u001b[0m \u001b[32m━━━━━━━━━━━━━━━━━━━━\u001b[0m\u001b[37m\u001b[0m \u001b[1m40s\u001b[0m 6ms/step\n",
      "Iteration 4: Number of misclassified instances: 14168\n",
      "\u001b[1m6250/6250\u001b[0m \u001b[32m━━━━━━━━━━━━━━━━━━━━\u001b[0m\u001b[37m\u001b[0m \u001b[1m40s\u001b[0m 6ms/step\n",
      "177482\n",
      "\u001b[1m5293/5293\u001b[0m \u001b[32m━━━━━━━━━━━━━━━━━━━━\u001b[0m\u001b[37m\u001b[0m \u001b[1m209s\u001b[0m 39ms/step - accuracy: 0.9840 - loss: 0.0455 - val_accuracy: 0.9251 - val_loss: 0.3591\n",
      "\u001b[1m6250/6250\u001b[0m \u001b[32m━━━━━━━━━━━━━━━━━━━━\u001b[0m\u001b[37m\u001b[0m \u001b[1m42s\u001b[0m 7ms/step\n",
      "Iteration 5: Number of misclassified instances: 14980\n"
     ]
    }
   ],
   "source": [
    "# Convert Pandas DataFrames to NumPy arrays if needed\n",
    "x1_val_matched_np = x1_val_matched.values if isinstance(x1_val_matched, pd.DataFrame) else x1_val_matched\n",
    "y_val_encoded_matched_np = y_val_encoded_matched.values if isinstance(y_val_encoded_matched, pd.DataFrame) else y_val_encoded_matched\n",
    "\n",
    "# Assuming outputval is already a TensorFlow tensor\n",
    "x0_val_normalizd_np = x0_val_normalizd.numpy()\n",
    "\n",
    "# Define the number of self-training iterations and confidence threshold\n",
    "num_iterations = 5\n",
    "confidence_threshold = 0.9\n",
    "\n",
    "for i in range(num_iterations):\n",
    "    # Step 2: Generate pseudo-labels for the validation data\n",
    "    pseudo_labels = model3.predict([x0_val_normalizd, x1_val_matched])\n",
    "    pseudo_confidences = np.max(pseudo_labels, axis=1)\n",
    "    pseudo_classes = np.argmax(pseudo_labels, axis=1)\n",
    "    # True classes\n",
    "    true_classes = np.argmax(y_val_encoded_matched, axis=1)\n",
    "    # Filter pseudo-labels based on confidence threshold\n",
    "    high_confidence_indices = np.where((pseudo_confidences >= confidence_threshold) & (pseudo_classes == true_classes))[0]\n",
    "    if len(high_confidence_indices) == 0:\n",
    "        print(f\"Iteration {i+1}: No high-confidence pseudo-labels found. Stopping early.\")\n",
    "        break\n",
    "\n",
    "    high_confidence_pseudo_labels = pseudo_classes[high_confidence_indices]\n",
    "    high_confidence_pseudo_labels_encoded = tf.keras.utils.to_categorical(high_confidence_pseudo_labels, num_classes=6)\n",
    "\n",
    "    # Extract high-confidence pseudo-labeled data\n",
    "    high_confidence_outputval = x0_val_normalizd_np[high_confidence_indices]\n",
    "    high_confidence_x1val = x1_val_matched_np[high_confidence_indices]\n",
    "\n",
    "    # Combine the original labeled data and the high-confidence pseudo-labeled data\n",
    "    combined_output = np.concatenate((output, high_confidence_outputval), axis=0)\n",
    "    combined_x1 = np.concatenate((x1_train_matched, high_confidence_x1val), axis=0)\n",
    "    combined_labels = np.concatenate((y_train_encoded_matched, high_confidence_pseudo_labels_encoded), axis=0)\n",
    "\n",
    "    # Step 4: Retrain the model using the combined dataset\n",
    "    history_fine_tune = model3.fit(\n",
    "        [combined_output, combined_x1],\n",
    "        combined_labels,\n",
    "        epochs=1,  # Adjust the number of epochs as needed\n",
    "        batch_size=128,\n",
    "        validation_data=([x0_val_normalizd, x1_val_matched], y_val_encoded_matched)\n",
    "    )\n",
    "\n",
    "    # Step 5: Evaluate the model on the validation data\n",
    "    new_predictions = model3.predict([x0_val_normalizd, x1_val_matched])\n",
    "    new_predicted_classes = np.argmax(new_predictions, axis=1)\n",
    "    new_true_classes = np.argmax(y_val_encoded_matched, axis=1)\n",
    "\n",
    "    # Calculate the number of misclassified instances\n",
    "    misclassified_indices = np.where(new_predicted_classes != new_true_classes)[0]\n",
    "    print(f\"Iteration {i+1}: Number of misclassified instances: {len(misclassified_indices)}\")"
   ]
  },
  {
   "cell_type": "markdown",
   "id": "6ff7dd12-9847-4c69-999a-6a49ac2c5dd2",
   "metadata": {},
   "source": [
    "- Comparaison"
   ]
  },
  {
   "cell_type": "code",
   "execution_count": 47,
   "id": "c493ff13-64a3-4da4-aabd-3c0d2459aef6",
   "metadata": {},
   "outputs": [],
   "source": []
  },
  {
   "cell_type": "code",
   "execution_count": 49,
   "id": "59e61d0f-6e75-422c-b347-26e67f21641e",
   "metadata": {},
   "outputs": [
    {
     "data": {
      "image/png": "[encoded data removed]",
      "text/plain": [
       "<Figure size 640x480 with 1 Axes>"
      ]
     },
     "metadata": {},
     "output_type": "display_data"
    }
   ],
   "source": [
    "# Plot train accuracy\n",
    "plt.plot(history1.history['accuracy'], label='Arch1 Train_Accuracy', color='blue')\n",
    "plt.plot(history2.history['accuracy'], label='Arch2 Train_Accuracy', color='orange')\n",
    "plt.plot(history3.history['accuracy'], label='Proposed DML Arch Train_Accuracy', color='green')\n",
    "\n",
    "# Plot validation accuracy\n",
    "plt.plot(history1.history['val_accuracy'], linestyle='--', label='Arch1 Val_Accuracy', color='blue')\n",
    "plt.plot(history2.history['val_accuracy'], linestyle='--', label='Arch2 Val_Accuracy', color='orange')\n",
    "plt.plot(history3.history['val_accuracy'], linestyle='--', label='Proposed DML Arch Val_Accuracy', color='green')\n",
    "\n",
    "plt.title('Model Train and Validation Accuracy')\n",
    "plt.xlabel('Epoch')\n",
    "plt.ylabel('Accuracy')\n",
    "plt.legend()\n",
    "plt.show()"
   ]
  },
  {
   "cell_type": "code",
   "execution_count": 50,
   "id": "f5b16eb9-fdbf-4201-bd4e-3a6eb1d67d0f",
   "metadata": {},
   "outputs": [
    {
     "data": {
      "image/png": "[encoded data removed]",
      "text/plain": [
       "<Figure size 640x480 with 1 Axes>"
      ]
     },
     "metadata": {},
     "output_type": "display_data"
    }
   ],
   "source": [
    "# Plot train accuracy\n",
    "plt.plot(history1.history['loss'], label='Arch1 Train_Loss', color='blue')\n",
    "plt.plot(history2.history['loss'], label='Arch2 Train_Loss', color='orange')\n",
    "plt.plot(history3.history['loss'], label='Proposed DML Arch Train_Loss', color='green')\n",
    "\n",
    "# Plot validation accuracy\n",
    "plt.plot(history1.history['val_loss'], linestyle='--', label='Arch1 Val_Loss', color='blue')\n",
    "plt.plot(history2.history['val_loss'], linestyle='--', label='Arch2 Val_Loss', color='orange')\n",
    "plt.plot(history3.history['val_loss'], linestyle='--', label='Proposed DML Arch Val_Loss', color='green')\n",
    "\n",
    "plt.title('Model Train and Validation Loss')\n",
    "plt.xlabel('Epoch')\n",
    "plt.ylabel('Loss')\n",
    "plt.legend()\n",
    "plt.show()"
   ]
  },
  {
   "cell_type": "code",
   "execution_count": null,
   "id": "178e5cc5-9d47-46de-958e-a585cedbd61b",
   "metadata": {},
   "outputs": [],
   "source": []
  },
  {
   "cell_type": "code",
   "execution_count": null,
   "id": "0ba5a423-7df4-452b-be2b-c8748cf383f5",
   "metadata": {},
   "outputs": [],
   "source": []
  },
  {
   "cell_type": "code",
   "execution_count": null,
   "id": "1e7955b7-3a12-4083-ba72-08b6ebf85dc3",
   "metadata": {},
   "outputs": [],
   "source": []
  },
  {
   "cell_type": "code",
   "execution_count": 31,
   "id": "eaa2865d-01c3-47f8-a84f-9f4cecb364c7",
   "metadata": {},
   "outputs": [],
   "source": []
  },
  {
   "cell_type": "code",
   "execution_count": null,
   "id": "c49c5d0a-b5a1-4b65-83b9-6945d7a345fb",
   "metadata": {},
   "outputs": [],
   "source": []
  },
  {
   "cell_type": "code",
   "execution_count": null,
   "id": "ba61ad4e-3ebb-4675-b546-df1be60e16f4",
   "metadata": {},
   "outputs": [],
   "source": []
  },
  {
   "cell_type": "code",
   "execution_count": null,
   "id": "33c47a66-e3bb-40f0-a7b1-fb4d3244f449",
   "metadata": {},
   "outputs": [],
   "source": []
  }
 ],
 "metadata": {
  "kernelspec": {
   "display_name": "Python 3 (ipykernel)",
   "language": "python",
   "name": "python3"
  },
  "language_info": {
   "codemirror_mode": {
    "name": "ipython",
    "version": 3
   },
   "file_extension": ".py",
   "mimetype": "text/x-python",
   "name": "python",
   "nbconvert_exporter": "python",
   "pygments_lexer": "ipython3",
   "version": "3.10.12"
  }
 },
 "nbformat": 4,
 "nbformat_minor": 5
}
